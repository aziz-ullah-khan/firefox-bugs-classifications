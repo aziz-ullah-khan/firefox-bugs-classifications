{
  "nbformat": 4,
  "nbformat_minor": 0,
  "metadata": {
    "colab": {
      "provenance": [],
      "collapsed_sections": []
    },
    "kernelspec": {
      "name": "python3",
      "display_name": "Python 3"
    },
    "language_info": {
      "name": "python"
    }
  },
  "cells": [
    {
      "cell_type": "markdown",
      "source": [
        "### Firefox bugs are the issues found in the Mozilla Firefox. Collected the data from the official website of the [Mozilla](https://bugzilla.mozilla.org/describecomponents.cgi).\n",
        "#### Sample bug is displayed herein:\n",
        "\n",
        "|Bug ID |\tType\t| Summary\t| Product\t| Component |\tAssignee |Status\t| Resolution\t| Updated\n",
        "| --- |---| --- | --- | --- | --- | --- | --- | --- |\n",
        "| 1536420\t | defect |\tPDF uses lot of memory when decoding\t| Firefox |\tPDF Viewer\t| nobody@mozilla.org\t| UNCONFIRMED\t| --- |\t4/15/2022 21:22 |\n",
        "\n",
        "---\n",
        "#### In this notebook bug types are classified which is imbalance dataset, types of bugs are: \n",
        "---\n",
        "- defect\n",
        "- enhancement\n",
        "- Task"
      ],
      "metadata": {
        "id": "MF3s8-UpRT6L"
      }
    },
    {
      "cell_type": "markdown",
      "source": [
        "### Required Pakcages"
      ],
      "metadata": {
        "id": "YAWQ6sAXYtWo"
      }
    },
    {
      "cell_type": "code",
      "source": [
        "import numpy as np\n",
        "import pandas as pd\n",
        "import matplotlib.pyplot as plt\n",
        "import seaborn as sns\n",
        "from sklearn.ensemble import RandomForestClassifier\n",
        "from sklearn.model_selection import train_test_split\n",
        "from sklearn.feature_extraction.text import TfidfVectorizer\n",
        "from sklearn.pipeline import Pipeline\n",
        "from sklearn import metrics"
      ],
      "metadata": {
        "id": "MSLn1vHmOUPP"
      },
      "execution_count": 52,
      "outputs": []
    },
    {
      "cell_type": "markdown",
      "source": [
        "### Getting data"
      ],
      "metadata": {
        "id": "FSzE7wXceo5O"
      }
    },
    {
      "cell_type": "code",
      "execution_count": 53,
      "metadata": {
        "id": "5m9amTYsN9Eg"
      },
      "outputs": [],
      "source": [
        "bugs = pd.read_csv('bugs-2022-09-07.csv') # read the file from local directory"
      ]
    },
    {
      "cell_type": "code",
      "source": [
        "bugs.head() # display top five bugs"
      ],
      "metadata": {
        "colab": {
          "base_uri": "https://localhost:8080/",
          "height": 337
        },
        "id": "iUcHoja7V8hW",
        "outputId": "81dbbb14-a8e5-4e68-e9b2-92e053ba2b8f"
      },
      "execution_count": 54,
      "outputs": [
        {
          "output_type": "execute_result",
          "data": {
            "text/plain": [
              "    Bug ID    Type                                            Summary  \\\n",
              "0  1653320  defect  Global sharing indicator blocks access to menu...   \n",
              "1  1355978  defect                      show tab favicons immediately   \n",
              "2  1404034  defect                     Icon looks pixelated on gnome3   \n",
              "3  1404295  defect  Firefox developer edition - default browser issue   \n",
              "4  1405504  defect  Can no longer scroll the tab bar using touch o...   \n",
              "\n",
              "   Product          Component Assignee       Status Resolution  \\\n",
              "0  Firefox   Site Permissions  mconley  UNCONFIRMED        ---   \n",
              "1  Firefox     Tabbed Browser   nobody  UNCONFIRMED        ---   \n",
              "2  Firefox              Theme   nobody  UNCONFIRMED        ---   \n",
              "3  Firefox  Shell Integration   nobody  UNCONFIRMED        ---   \n",
              "4  Firefox     Tabbed Browser   nobody  UNCONFIRMED        ---   \n",
              "\n",
              "               Updated  \n",
              "0  2021-08-28 01:05:31  \n",
              "1  2022-07-16 19:20:28  \n",
              "2  2019-06-12 17:37:21  \n",
              "3  2021-11-24 07:03:37  \n",
              "4  2017-11-01 02:48:05  "
            ],
            "text/html": [
              "\n",
              "  <div id=\"df-af845e3a-331e-4fc9-8ab0-4eb07e50e936\">\n",
              "    <div class=\"colab-df-container\">\n",
              "      <div>\n",
              "<style scoped>\n",
              "    .dataframe tbody tr th:only-of-type {\n",
              "        vertical-align: middle;\n",
              "    }\n",
              "\n",
              "    .dataframe tbody tr th {\n",
              "        vertical-align: top;\n",
              "    }\n",
              "\n",
              "    .dataframe thead th {\n",
              "        text-align: right;\n",
              "    }\n",
              "</style>\n",
              "<table border=\"1\" class=\"dataframe\">\n",
              "  <thead>\n",
              "    <tr style=\"text-align: right;\">\n",
              "      <th></th>\n",
              "      <th>Bug ID</th>\n",
              "      <th>Type</th>\n",
              "      <th>Summary</th>\n",
              "      <th>Product</th>\n",
              "      <th>Component</th>\n",
              "      <th>Assignee</th>\n",
              "      <th>Status</th>\n",
              "      <th>Resolution</th>\n",
              "      <th>Updated</th>\n",
              "    </tr>\n",
              "  </thead>\n",
              "  <tbody>\n",
              "    <tr>\n",
              "      <th>0</th>\n",
              "      <td>1653320</td>\n",
              "      <td>defect</td>\n",
              "      <td>Global sharing indicator blocks access to menu...</td>\n",
              "      <td>Firefox</td>\n",
              "      <td>Site Permissions</td>\n",
              "      <td>mconley</td>\n",
              "      <td>UNCONFIRMED</td>\n",
              "      <td>---</td>\n",
              "      <td>2021-08-28 01:05:31</td>\n",
              "    </tr>\n",
              "    <tr>\n",
              "      <th>1</th>\n",
              "      <td>1355978</td>\n",
              "      <td>defect</td>\n",
              "      <td>show tab favicons immediately</td>\n",
              "      <td>Firefox</td>\n",
              "      <td>Tabbed Browser</td>\n",
              "      <td>nobody</td>\n",
              "      <td>UNCONFIRMED</td>\n",
              "      <td>---</td>\n",
              "      <td>2022-07-16 19:20:28</td>\n",
              "    </tr>\n",
              "    <tr>\n",
              "      <th>2</th>\n",
              "      <td>1404034</td>\n",
              "      <td>defect</td>\n",
              "      <td>Icon looks pixelated on gnome3</td>\n",
              "      <td>Firefox</td>\n",
              "      <td>Theme</td>\n",
              "      <td>nobody</td>\n",
              "      <td>UNCONFIRMED</td>\n",
              "      <td>---</td>\n",
              "      <td>2019-06-12 17:37:21</td>\n",
              "    </tr>\n",
              "    <tr>\n",
              "      <th>3</th>\n",
              "      <td>1404295</td>\n",
              "      <td>defect</td>\n",
              "      <td>Firefox developer edition - default browser issue</td>\n",
              "      <td>Firefox</td>\n",
              "      <td>Shell Integration</td>\n",
              "      <td>nobody</td>\n",
              "      <td>UNCONFIRMED</td>\n",
              "      <td>---</td>\n",
              "      <td>2021-11-24 07:03:37</td>\n",
              "    </tr>\n",
              "    <tr>\n",
              "      <th>4</th>\n",
              "      <td>1405504</td>\n",
              "      <td>defect</td>\n",
              "      <td>Can no longer scroll the tab bar using touch o...</td>\n",
              "      <td>Firefox</td>\n",
              "      <td>Tabbed Browser</td>\n",
              "      <td>nobody</td>\n",
              "      <td>UNCONFIRMED</td>\n",
              "      <td>---</td>\n",
              "      <td>2017-11-01 02:48:05</td>\n",
              "    </tr>\n",
              "  </tbody>\n",
              "</table>\n",
              "</div>\n",
              "      <button class=\"colab-df-convert\" onclick=\"convertToInteractive('df-af845e3a-331e-4fc9-8ab0-4eb07e50e936')\"\n",
              "              title=\"Convert this dataframe to an interactive table.\"\n",
              "              style=\"display:none;\">\n",
              "        \n",
              "  <svg xmlns=\"http://www.w3.org/2000/svg\" height=\"24px\"viewBox=\"0 0 24 24\"\n",
              "       width=\"24px\">\n",
              "    <path d=\"M0 0h24v24H0V0z\" fill=\"none\"/>\n",
              "    <path d=\"M18.56 5.44l.94 2.06.94-2.06 2.06-.94-2.06-.94-.94-2.06-.94 2.06-2.06.94zm-11 1L8.5 8.5l.94-2.06 2.06-.94-2.06-.94L8.5 2.5l-.94 2.06-2.06.94zm10 10l.94 2.06.94-2.06 2.06-.94-2.06-.94-.94-2.06-.94 2.06-2.06.94z\"/><path d=\"M17.41 7.96l-1.37-1.37c-.4-.4-.92-.59-1.43-.59-.52 0-1.04.2-1.43.59L10.3 9.45l-7.72 7.72c-.78.78-.78 2.05 0 2.83L4 21.41c.39.39.9.59 1.41.59.51 0 1.02-.2 1.41-.59l7.78-7.78 2.81-2.81c.8-.78.8-2.07 0-2.86zM5.41 20L4 18.59l7.72-7.72 1.47 1.35L5.41 20z\"/>\n",
              "  </svg>\n",
              "      </button>\n",
              "      \n",
              "  <style>\n",
              "    .colab-df-container {\n",
              "      display:flex;\n",
              "      flex-wrap:wrap;\n",
              "      gap: 12px;\n",
              "    }\n",
              "\n",
              "    .colab-df-convert {\n",
              "      background-color: #E8F0FE;\n",
              "      border: none;\n",
              "      border-radius: 50%;\n",
              "      cursor: pointer;\n",
              "      display: none;\n",
              "      fill: #1967D2;\n",
              "      height: 32px;\n",
              "      padding: 0 0 0 0;\n",
              "      width: 32px;\n",
              "    }\n",
              "\n",
              "    .colab-df-convert:hover {\n",
              "      background-color: #E2EBFA;\n",
              "      box-shadow: 0px 1px 2px rgba(60, 64, 67, 0.3), 0px 1px 3px 1px rgba(60, 64, 67, 0.15);\n",
              "      fill: #174EA6;\n",
              "    }\n",
              "\n",
              "    [theme=dark] .colab-df-convert {\n",
              "      background-color: #3B4455;\n",
              "      fill: #D2E3FC;\n",
              "    }\n",
              "\n",
              "    [theme=dark] .colab-df-convert:hover {\n",
              "      background-color: #434B5C;\n",
              "      box-shadow: 0px 1px 3px 1px rgba(0, 0, 0, 0.15);\n",
              "      filter: drop-shadow(0px 1px 2px rgba(0, 0, 0, 0.3));\n",
              "      fill: #FFFFFF;\n",
              "    }\n",
              "  </style>\n",
              "\n",
              "      <script>\n",
              "        const buttonEl =\n",
              "          document.querySelector('#df-af845e3a-331e-4fc9-8ab0-4eb07e50e936 button.colab-df-convert');\n",
              "        buttonEl.style.display =\n",
              "          google.colab.kernel.accessAllowed ? 'block' : 'none';\n",
              "\n",
              "        async function convertToInteractive(key) {\n",
              "          const element = document.querySelector('#df-af845e3a-331e-4fc9-8ab0-4eb07e50e936');\n",
              "          const dataTable =\n",
              "            await google.colab.kernel.invokeFunction('convertToInteractive',\n",
              "                                                     [key], {});\n",
              "          if (!dataTable) return;\n",
              "\n",
              "          const docLinkHtml = 'Like what you see? Visit the ' +\n",
              "            '<a target=\"_blank\" href=https://colab.research.google.com/notebooks/data_table.ipynb>data table notebook</a>'\n",
              "            + ' to learn more about interactive tables.';\n",
              "          element.innerHTML = '';\n",
              "          dataTable['output_type'] = 'display_data';\n",
              "          await google.colab.output.renderOutput(dataTable, element);\n",
              "          const docLink = document.createElement('div');\n",
              "          docLink.innerHTML = docLinkHtml;\n",
              "          element.appendChild(docLink);\n",
              "        }\n",
              "      </script>\n",
              "    </div>\n",
              "  </div>\n",
              "  "
            ]
          },
          "metadata": {},
          "execution_count": 54
        }
      ]
    },
    {
      "cell_type": "markdown",
      "source": [
        "### Exploratory Data Analysis"
      ],
      "metadata": {
        "id": "-Hc0ymloijVf"
      }
    },
    {
      "cell_type": "code",
      "source": [
        "bugs.info() # to get info of missing values and data types of the attributes "
      ],
      "metadata": {
        "colab": {
          "base_uri": "https://localhost:8080/"
        },
        "id": "AzjUYutiexJ-",
        "outputId": "555ba391-4420-4e0a-f5ca-25c6240ec87a"
      },
      "execution_count": 55,
      "outputs": [
        {
          "output_type": "stream",
          "name": "stdout",
          "text": [
            "<class 'pandas.core.frame.DataFrame'>\n",
            "RangeIndex: 10000 entries, 0 to 9999\n",
            "Data columns (total 9 columns):\n",
            " #   Column      Non-Null Count  Dtype \n",
            "---  ------      --------------  ----- \n",
            " 0   Bug ID      10000 non-null  int64 \n",
            " 1   Type        10000 non-null  object\n",
            " 2   Summary     10000 non-null  object\n",
            " 3   Product     10000 non-null  object\n",
            " 4   Component   10000 non-null  object\n",
            " 5   Assignee    10000 non-null  object\n",
            " 6   Status      10000 non-null  object\n",
            " 7   Resolution  10000 non-null  object\n",
            " 8   Updated     10000 non-null  object\n",
            "dtypes: int64(1), object(8)\n",
            "memory usage: 703.2+ KB\n"
          ]
        }
      ]
    },
    {
      "cell_type": "code",
      "source": [
        "bugs['Type'].value_counts()  # count the bugs types "
      ],
      "metadata": {
        "colab": {
          "base_uri": "https://localhost:8080/"
        },
        "id": "BXwCK50fez0u",
        "outputId": "9b96ac68-1e58-4680-bc7f-d1312358c5bd"
      },
      "execution_count": 56,
      "outputs": [
        {
          "output_type": "execute_result",
          "data": {
            "text/plain": [
              "defect         6848\n",
              "enhancement    2540\n",
              "task            612\n",
              "Name: Type, dtype: int64"
            ]
          },
          "metadata": {},
          "execution_count": 56
        }
      ]
    },
    {
      "cell_type": "code",
      "source": [
        "sns.countplot(data = bugs, x = 'Type').set(title='Bugs Types Count')\n",
        "plt.show()"
      ],
      "metadata": {
        "colab": {
          "base_uri": "https://localhost:8080/",
          "height": 376
        },
        "id": "IvBeySWxfUaX",
        "outputId": "1d2a552c-dde6-4fd9-c06b-7042093a0a70"
      },
      "execution_count": 57,
      "outputs": [
        {
          "output_type": "display_data",
          "data": {
            "text/plain": [
              "<Figure size 576x396 with 1 Axes>"
            ],
            "image/png": "[encoded data removed]"
          },
          "metadata": {}
        }
      ]
    },
    {
      "cell_type": "markdown",
      "source": [
        "Conclusion:\n",
        "* 8 Categorical and 1 numerical features are found\n",
        "* No missing values are found\n",
        "* Dataset is imbalance\n",
        "\n",
        "Upsampling or downsampling is requrired for the balancing\\\n",
        "**or**\\\n",
        "Use Random Forest which is performing good with comarision to other models on imbalance dataset.\n"
      ],
      "metadata": {
        "id": "7IwKqovnjPTp"
      }
    },
    {
      "cell_type": "markdown",
      "source": [
        "# Feature Selection"
      ],
      "metadata": {
        "id": "--H_skpTcofg"
      }
    },
    {
      "cell_type": "code",
      "source": [
        "X = bugs['Summary'] \n",
        "y = bugs['Type']\n",
        "X_train, X_test, y_train, y_test = train_test_split(X, y, test_size = 0.2, random_state  = 42) #splitting the dataset by 80/20 for train/test respectively."
      ],
      "metadata": {
        "id": "ssGiDhD1fjz_"
      },
      "execution_count": 58,
      "outputs": []
    },
    {
      "cell_type": "markdown",
      "source": [
        "# Model Training"
      ],
      "metadata": {
        "id": "p902PJ1_ocRa"
      }
    },
    {
      "cell_type": "code",
      "source": [
        "# creating the pipeline with components of TFID and an Estimator\n",
        "bug_clf = Pipeline([('tfidf', TfidfVectorizer()), \n",
        "                    ('clf', RandomForestClassifier())])\n",
        "\n",
        "bug_clf.fit(X_train, y_train) # train the model"
      ],
      "metadata": {
        "colab": {
          "base_uri": "https://localhost:8080/"
        },
        "id": "an0x0oAemFPv",
        "outputId": "ff7b89b3-d0b6-4f1a-f4ff-6ae156e7702f"
      },
      "execution_count": 59,
      "outputs": [
        {
          "output_type": "execute_result",
          "data": {
            "text/plain": [
              "Pipeline(steps=[('tfidf', TfidfVectorizer()),\n",
              "                ('clf', RandomForestClassifier())])"
            ]
          },
          "metadata": {},
          "execution_count": 59
        }
      ]
    },
    {
      "cell_type": "markdown",
      "source": [
        "# Model Evaluations"
      ],
      "metadata": {
        "id": "gIpl96pil2Nx"
      }
    },
    {
      "cell_type": "code",
      "source": [
        "# plot confusion matrix\n",
        "disp = metrics.ConfusionMatrixDisplay(confusion_matrix=metrics.confusion_matrix(y_test, bug_clf.predict(X_test)),\n",
        "                                      display_labels = bug_clf.classes_)\n",
        "disp.plot()\n",
        "plt.title('Confusion Matrix')\n",
        "plt.show()"
      ],
      "metadata": {
        "colab": {
          "base_uri": "https://localhost:8080/",
          "height": 376
        },
        "id": "jp5AfexfrRVg",
        "outputId": "ee23196a-b9d8-4b81-d230-e7a30247de2c"
      },
      "execution_count": 60,
      "outputs": [
        {
          "output_type": "display_data",
          "data": {
            "text/plain": [
              "<Figure size 576x396 with 2 Axes>"
            ],
            "image/png": "[encoded data removed]"
          },
          "metadata": {}
        }
      ]
    },
    {
      "cell_type": "code",
      "source": [
        "# Printing Classification report\n",
        "print(metrics.classification_report(y_test, bug_clf.predict(X_test)))"
      ],
      "metadata": {
        "colab": {
          "base_uri": "https://localhost:8080/"
        },
        "id": "xdm5R2UtqQuI",
        "outputId": "611a26ce-633f-4eee-c3e8-c40ea12f1de3"
      },
      "execution_count": 61,
      "outputs": [
        {
          "output_type": "stream",
          "name": "stdout",
          "text": [
            "              precision    recall  f1-score   support\n",
            "\n",
            "      defect       0.78      0.95      0.86      1359\n",
            " enhancement       0.69      0.41      0.52       524\n",
            "        task       0.70      0.12      0.20       117\n",
            "\n",
            "    accuracy                           0.76      2000\n",
            "   macro avg       0.72      0.50      0.53      2000\n",
            "weighted avg       0.75      0.76      0.73      2000\n",
            "\n"
          ]
        }
      ]
    },
    {
      "cell_type": "markdown",
      "source": [
        "# Saving the model"
      ],
      "metadata": {
        "id": "n3aDkxHfxvR8"
      }
    },
    {
      "cell_type": "code",
      "source": [
        "from joblib import dump, load\n",
        "dump(bug_clf, 'bug_clf.joblib') "
      ],
      "metadata": {
        "colab": {
          "base_uri": "https://localhost:8080/"
        },
        "id": "EA3LGZH1dVa8",
        "outputId": "0899f0be-d7ce-453b-a970-7bfa17438862"
      },
      "execution_count": 63,
      "outputs": [
        {
          "output_type": "execute_result",
          "data": {
            "text/plain": [
              "['bug_clf.joblib']"
            ]
          },
          "metadata": {},
          "execution_count": 63
        }
      ]
    },
    {
      "cell_type": "markdown",
      "source": [
        "# Loading the model"
      ],
      "metadata": {
        "id": "XGY_fCRi6t-N"
      }
    },
    {
      "cell_type": "code",
      "source": [
        "bug_clf = load('bug_clf.joblib') "
      ],
      "metadata": {
        "id": "4pVzp8hC2trp"
      },
      "execution_count": 65,
      "outputs": []
    },
    {
      "cell_type": "markdown",
      "source": [
        "# Final Remarks\n",
        "This notebook can be optimized or improved with many ways:\n",
        "1. Implementation of SMOTE for balancing of dataset \n",
        "2. Other models should be checked as well, Like Transformer based\n",
        "3. Can be fine tune with using GridSearch for multiple hyperparamaters."
      ],
      "metadata": {
        "id": "vuF9WzDy6wfF"
      }
    }
  ]
}